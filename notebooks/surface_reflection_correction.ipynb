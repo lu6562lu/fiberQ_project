{
 "cells": [
  {
   "cell_type": "markdown",
   "id": "7ef5e12f",
   "metadata": {},
   "source": [
    "# Surface Reflection Correction 範本\n",
    "\n",
    "這個notebook會：\n",
    "1. 載入完整fiber raw data\n",
    "2. 執行surface reflection correction\n",
    "3. 將修正後的資料以parquet格式儲存（壓縮、省空間）\n",
    "\n",
    "請根據實際需求調整檔案名稱、路徑與參數。"
   ]
  },
  {
   "cell_type": "code",
   "execution_count": 24,
   "id": "50e582b6-8984-474b-afdf-eab11f75b7e2",
   "metadata": {},
   "outputs": [],
   "source": [
    "GAUGE_LENGTH = 10\n",
    "SAMPLES = 1000\n",
    "MULT = 4.0838\n",
    "DAS_CNST = 116/8192*10**(-9)*SAMPLES/GAUGE_LENGTH"
   ]
  },
  {
   "cell_type": "code",
   "execution_count": 35,
   "id": "7a3c886a",
   "metadata": {},
   "outputs": [
    {
     "name": "stdout",
     "output_type": "stream",
     "text": [
      "The autoreload extension is already loaded. To reload it, use:\n",
      "  %reload_ext autoreload\n"
     ]
    }
   ],
   "source": [
    "%load_ext autoreload\n",
    "%autoreload 2\n",
    "import os\n",
    "import sys\n",
    "project_root = os.path.abspath(os.path.join(os.getcwd(), \"..\"))\n",
    "sys.path.append(project_root)\n",
    "import pandas as pd\n",
    "import numpy as np\n",
    "from obspy import read\n",
    "import tqdm\n",
    "from scripts.surface_reflections_correction import correct_surface_reflection, load_das_profile\n",
    "from scripts.picking_module import process_event"
   ]
  },
  {
   "cell_type": "code",
   "execution_count": 43,
   "id": "f71fa9d9-776b-4886-8d3a-0ef075c8f4dd",
   "metadata": {},
   "outputs": [],
   "source": [
    "dasf = f\"{RAW_DATA_PATH}/fiber/{event_date}.mseed\"\n",
    "start = start_time\n",
    "end = end_time\n",
    "channels = np.arange(1234,1405)"
   ]
  },
  {
   "cell_type": "code",
   "execution_count": 44,
   "id": "3be9178d-d3e8-48dd-84aa-eca921ee09e8",
   "metadata": {},
   "outputs": [
    {
     "name": "stderr",
     "output_type": "stream",
     "text": [
      "100%|████████████████████████████████████| 1824/1824 [00:00<00:00, 14694.10it/s]\n"
     ]
    },
    {
     "ename": "CoordinateValidationError",
     "evalue": "conflicting sizes for dimension 'channel': length 1824 on the data but length 171 on coordinate 'channel'",
     "output_type": "error",
     "traceback": [
      "\u001b[0;31m---------------------------------------------------------------------------\u001b[0m",
      "\u001b[0;31mCoordinateValidationError\u001b[0m                 Traceback (most recent call last)",
      "Cell \u001b[0;32mIn[44], line 1\u001b[0m\n\u001b[0;32m----> 1\u001b[0m A \u001b[38;5;241m=\u001b[39m \u001b[43mload_das_profile\u001b[49m\u001b[43m(\u001b[49m\u001b[43mdasf\u001b[49m\u001b[43m,\u001b[49m\u001b[43m \u001b[49m\u001b[43mstart\u001b[49m\u001b[43m,\u001b[49m\u001b[43m \u001b[49m\u001b[43mend\u001b[49m\u001b[43m,\u001b[49m\u001b[43m \u001b[49m\u001b[43mchannels\u001b[49m\u001b[43m)\u001b[49m\n",
      "File \u001b[0;32m~/fiber_Q/fiberQ_project/scripts/surface_reflections_correction.py:37\u001b[0m, in \u001b[0;36mload_das_profile\u001b[0;34m(dasf, start, end, channels, das_cnst)\u001b[0m\n\u001b[1;32m     34\u001b[0m \u001b[38;5;28;01mfor\u001b[39;00m i \u001b[38;5;129;01min\u001b[39;00m tqdm\u001b[38;5;241m.\u001b[39mtqdm(np\u001b[38;5;241m.\u001b[39marange(\u001b[38;5;28mlen\u001b[39m(st))): \n\u001b[1;32m     35\u001b[0m     A[i, :] \u001b[38;5;241m=\u001b[39m st[i]\u001b[38;5;241m.\u001b[39mdata \u001b[38;5;241m*\u001b[39m das_cnst\n\u001b[0;32m---> 37\u001b[0m A \u001b[38;5;241m=\u001b[39m \u001b[43mxr\u001b[49m\u001b[38;5;241;43m.\u001b[39;49m\u001b[43mDataArray\u001b[49m\u001b[43m(\u001b[49m\n\u001b[1;32m     38\u001b[0m \u001b[43m    \u001b[49m\u001b[43mA\u001b[49m\u001b[43m,\u001b[49m\u001b[43m \u001b[49m\n\u001b[1;32m     39\u001b[0m \u001b[43m    \u001b[49m\u001b[43mdims\u001b[49m\u001b[38;5;241;43m=\u001b[39;49m\u001b[43m(\u001b[49m\u001b[38;5;124;43m'\u001b[39;49m\u001b[38;5;124;43mchannel\u001b[39;49m\u001b[38;5;124;43m'\u001b[39;49m\u001b[43m,\u001b[49m\u001b[43m \u001b[49m\u001b[38;5;124;43m'\u001b[39;49m\u001b[38;5;124;43mtime\u001b[39;49m\u001b[38;5;124;43m'\u001b[39;49m\u001b[43m)\u001b[49m\u001b[43m,\u001b[49m\u001b[43m \u001b[49m\n\u001b[1;32m     40\u001b[0m \u001b[43m    \u001b[49m\u001b[43mcoords\u001b[49m\u001b[38;5;241;43m=\u001b[39;49m\u001b[38;5;28;43mdict\u001b[39;49m\u001b[43m(\u001b[49m\n\u001b[1;32m     41\u001b[0m \u001b[43m        \u001b[49m\u001b[43mtime\u001b[49m\u001b[38;5;241;43m=\u001b[39;49m\u001b[43mt\u001b[49m\u001b[43m,\u001b[49m\n\u001b[1;32m     42\u001b[0m \u001b[43m        \u001b[49m\u001b[43mchannel\u001b[49m\u001b[38;5;241;43m=\u001b[39;49m\u001b[43mchannels\u001b[49m\u001b[43m,\u001b[49m\n\u001b[1;32m     43\u001b[0m \u001b[43m        \u001b[49m\u001b[43mdepth\u001b[49m\u001b[38;5;241;43m=\u001b[39;49m\u001b[43m(\u001b[49m\u001b[38;5;124;43m'\u001b[39;49m\u001b[38;5;124;43mchannel\u001b[39;49m\u001b[38;5;124;43m'\u001b[39;49m\u001b[43m,\u001b[49m\u001b[43m \u001b[49m\u001b[43m(\u001b[49m\u001b[43mchannels\u001b[49m\u001b[43m \u001b[49m\u001b[38;5;241;43m-\u001b[39;49m\u001b[43m \u001b[49m\u001b[43mchannels\u001b[49m\u001b[43m[\u001b[49m\u001b[38;5;241;43m0\u001b[39;49m\u001b[43m]\u001b[49m\u001b[43m)\u001b[49m\u001b[43m \u001b[49m\u001b[38;5;241;43m*\u001b[39;49m\u001b[43m \u001b[49m\u001b[43mMULT\u001b[49m\u001b[43m)\u001b[49m\u001b[43m,\u001b[49m\n\u001b[1;32m     44\u001b[0m \u001b[43m    \u001b[49m\u001b[43m)\u001b[49m\n\u001b[1;32m     45\u001b[0m \u001b[43m\u001b[49m\u001b[43m)\u001b[49m\n\u001b[1;32m     46\u001b[0m A\u001b[38;5;241m.\u001b[39mtime\u001b[38;5;241m.\u001b[39mattrs[\u001b[38;5;124m'\u001b[39m\u001b[38;5;124mlong_name\u001b[39m\u001b[38;5;124m'\u001b[39m] \u001b[38;5;241m=\u001b[39m \u001b[38;5;124m'\u001b[39m\u001b[38;5;124mTime\u001b[39m\u001b[38;5;124m'\u001b[39m\n\u001b[1;32m     47\u001b[0m A\u001b[38;5;241m.\u001b[39mdepth\u001b[38;5;241m.\u001b[39mattrs[\u001b[38;5;124m'\u001b[39m\u001b[38;5;124mlong_name\u001b[39m\u001b[38;5;124m'\u001b[39m] \u001b[38;5;241m=\u001b[39m \u001b[38;5;124m'\u001b[39m\u001b[38;5;124mDepth\u001b[39m\u001b[38;5;124m'\u001b[39m\n",
      "File \u001b[0;32m~/anaconda3/envs/obspy/lib/python3.10/site-packages/xarray/core/dataarray.py:461\u001b[0m, in \u001b[0;36mDataArray.__init__\u001b[0;34m(self, data, coords, dims, name, attrs, indexes, fastpath)\u001b[0m\n\u001b[1;32m    459\u001b[0m data \u001b[38;5;241m=\u001b[39m _check_data_shape(data, coords, dims)\n\u001b[1;32m    460\u001b[0m data \u001b[38;5;241m=\u001b[39m as_compatible_data(data)\n\u001b[0;32m--> 461\u001b[0m coords, dims \u001b[38;5;241m=\u001b[39m \u001b[43m_infer_coords_and_dims\u001b[49m\u001b[43m(\u001b[49m\u001b[43mdata\u001b[49m\u001b[38;5;241;43m.\u001b[39;49m\u001b[43mshape\u001b[49m\u001b[43m,\u001b[49m\u001b[43m \u001b[49m\u001b[43mcoords\u001b[49m\u001b[43m,\u001b[49m\u001b[43m \u001b[49m\u001b[43mdims\u001b[49m\u001b[43m)\u001b[49m\n\u001b[1;32m    462\u001b[0m variable \u001b[38;5;241m=\u001b[39m Variable(dims, data, attrs, fastpath\u001b[38;5;241m=\u001b[39m\u001b[38;5;28;01mTrue\u001b[39;00m)\n\u001b[1;32m    464\u001b[0m \u001b[38;5;28;01mif\u001b[39;00m \u001b[38;5;129;01mnot\u001b[39;00m \u001b[38;5;28misinstance\u001b[39m(coords, Coordinates):\n",
      "File \u001b[0;32m~/anaconda3/envs/obspy/lib/python3.10/site-packages/xarray/core/dataarray.py:191\u001b[0m, in \u001b[0;36m_infer_coords_and_dims\u001b[0;34m(shape, coords, dims)\u001b[0m\n\u001b[1;32m    188\u001b[0m             var\u001b[38;5;241m.\u001b[39mdims \u001b[38;5;241m=\u001b[39m (dim,)\n\u001b[1;32m    189\u001b[0m             new_coords[dim] \u001b[38;5;241m=\u001b[39m var\u001b[38;5;241m.\u001b[39mto_index_variable()\n\u001b[0;32m--> 191\u001b[0m \u001b[43mvalidate_dataarray_coords\u001b[49m\u001b[43m(\u001b[49m\u001b[43mshape\u001b[49m\u001b[43m,\u001b[49m\u001b[43m \u001b[49m\u001b[43mnew_coords\u001b[49m\u001b[43m,\u001b[49m\u001b[43m \u001b[49m\u001b[43mdims_tuple\u001b[49m\u001b[43m)\u001b[49m\n\u001b[1;32m    193\u001b[0m \u001b[38;5;28;01mreturn\u001b[39;00m new_coords, dims_tuple\n",
      "File \u001b[0;32m~/anaconda3/envs/obspy/lib/python3.10/site-packages/xarray/core/coordinates.py:1193\u001b[0m, in \u001b[0;36mvalidate_dataarray_coords\u001b[0;34m(shape, coords, dim)\u001b[0m\n\u001b[1;32m   1191\u001b[0m \u001b[38;5;28;01mfor\u001b[39;00m d, s \u001b[38;5;129;01min\u001b[39;00m v\u001b[38;5;241m.\u001b[39msizes\u001b[38;5;241m.\u001b[39mitems():\n\u001b[1;32m   1192\u001b[0m     \u001b[38;5;28;01mif\u001b[39;00m d \u001b[38;5;129;01min\u001b[39;00m sizes \u001b[38;5;129;01mand\u001b[39;00m s \u001b[38;5;241m!=\u001b[39m sizes[d]:\n\u001b[0;32m-> 1193\u001b[0m         \u001b[38;5;28;01mraise\u001b[39;00m CoordinateValidationError(\n\u001b[1;32m   1194\u001b[0m             \u001b[38;5;124mf\u001b[39m\u001b[38;5;124m\"\u001b[39m\u001b[38;5;124mconflicting sizes for dimension \u001b[39m\u001b[38;5;132;01m{\u001b[39;00md\u001b[38;5;132;01m!r}\u001b[39;00m\u001b[38;5;124m: \u001b[39m\u001b[38;5;124m\"\u001b[39m\n\u001b[1;32m   1195\u001b[0m             \u001b[38;5;124mf\u001b[39m\u001b[38;5;124m\"\u001b[39m\u001b[38;5;124mlength \u001b[39m\u001b[38;5;132;01m{\u001b[39;00msizes[d]\u001b[38;5;132;01m}\u001b[39;00m\u001b[38;5;124m on the data but length \u001b[39m\u001b[38;5;132;01m{\u001b[39;00ms\u001b[38;5;132;01m}\u001b[39;00m\u001b[38;5;124m on \u001b[39m\u001b[38;5;124m\"\u001b[39m\n\u001b[1;32m   1196\u001b[0m             \u001b[38;5;124mf\u001b[39m\u001b[38;5;124m\"\u001b[39m\u001b[38;5;124mcoordinate \u001b[39m\u001b[38;5;132;01m{\u001b[39;00mk\u001b[38;5;132;01m!r}\u001b[39;00m\u001b[38;5;124m\"\u001b[39m\n\u001b[1;32m   1197\u001b[0m         )\n",
      "\u001b[0;31mCoordinateValidationError\u001b[0m: conflicting sizes for dimension 'channel': length 1824 on the data but length 171 on coordinate 'channel'"
     ]
    }
   ],
   "source": [
    "A = load_das_profile(dasf, start, end, channels)"
   ]
  },
  {
   "cell_type": "code",
   "execution_count": 37,
   "id": "8defb42d",
   "metadata": {},
   "outputs": [],
   "source": [
    "# 2. 設定檔案路徑\n",
    "RAW_DATA_PATH = \"/home/lulu/data/inci30\"   \n",
    "CORRECTED_DATA_PATH = '../data/fiber_corrected.parquet'  \n",
    "event_date = \"20231001-2221\"\n",
    "fiber_file = f\"{RAW_DATA_PATH}/fiber/{event_date}.mseed\"\n",
    "\n",
    "picking = process_event(event_date, f\"{RAW_DATA_PATH}/borehole\", output_path=None)\n",
    "start_time = picking['P_pick'] - 10\n",
    "end_time = picking['S_pick'] + 5"
   ]
  },
  {
   "cell_type": "code",
   "execution_count": 42,
   "id": "8c1d16bc",
   "metadata": {},
   "outputs": [
    {
     "name": "stderr",
     "output_type": "stream",
     "text": [
      "  0%|                                                   | 0/171 [00:00<?, ?it/s]\n"
     ]
    },
    {
     "ename": "IndexError",
     "evalue": "index 1234 is out of bounds for axis 0 with size 170",
     "output_type": "error",
     "traceback": [
      "\u001b[0;31m---------------------------------------------------------------------------\u001b[0m",
      "\u001b[0;31mIndexError\u001b[0m                                Traceback (most recent call last)",
      "Cell \u001b[0;32mIn[42], line 5\u001b[0m\n\u001b[1;32m      3\u001b[0m A \u001b[38;5;241m=\u001b[39m np\u001b[38;5;241m.\u001b[39mzeros([\u001b[38;5;241m170\u001b[39m, st[\u001b[38;5;241m0\u001b[39m]\u001b[38;5;241m.\u001b[39mstats\u001b[38;5;241m.\u001b[39mnpts])\n\u001b[1;32m      4\u001b[0m \u001b[38;5;28;01mfor\u001b[39;00m i \u001b[38;5;129;01min\u001b[39;00m tqdm\u001b[38;5;241m.\u001b[39mtqdm(np\u001b[38;5;241m.\u001b[39marange(\u001b[38;5;241m1234\u001b[39m,\u001b[38;5;241m1405\u001b[39m)): \n\u001b[0;32m----> 5\u001b[0m     \u001b[43mA\u001b[49m\u001b[43m[\u001b[49m\u001b[43mi\u001b[49m\u001b[43m,\u001b[49m\u001b[43m \u001b[49m\u001b[43m:\u001b[49m\u001b[43m]\u001b[49m \u001b[38;5;241m=\u001b[39m st[i]\u001b[38;5;241m.\u001b[39mdata \u001b[38;5;241m*\u001b[39m DAS_CNST\n\u001b[1;32m      6\u001b[0m \u001b[38;5;66;03m# fiber_data = load_das_profile(fiber_file, )\u001b[39;00m\n\u001b[1;32m      7\u001b[0m \u001b[38;5;66;03m# print(f'Raw data shape: {fiber_data.shape}')\u001b[39;00m\n",
      "\u001b[0;31mIndexError\u001b[0m: index 1234 is out of bounds for axis 0 with size 170"
     ]
    }
   ],
   "source": [
    "# 3. 載入raw data\n",
    "st = read(fiber_file, starttime=start_time, endtime=end_time)\n",
    "A = np.zeros([len(st), st[0].stats.npts])\n",
    "for i in tqdm.tqdm(np.arange(1234,1405)): \n",
    "    A[i, :] = st[i].data * DAS_CNST\n",
    "# fiber_data = load_das_profile(fiber_file, )\n",
    "# print(f'Raw data shape: {fiber_data.shape}')"
   ]
  },
  {
   "cell_type": "code",
   "execution_count": null,
   "id": "001fe58d",
   "metadata": {},
   "outputs": [],
   "source": [
    "# 4. 執行surface reflection correction\n",
    "# 請根據你的函式實際參數調整這一行\n",
    "corrected_fiber_data = correct_surface_reflection(fiber_data)\n",
    "print(f'Corrected data shape: {corrected_fiber_data.shape}')"
   ]
  },
  {
   "cell_type": "code",
   "execution_count": null,
   "id": "8b97f3db",
   "metadata": {},
   "outputs": [],
   "source": [
    "# 5. 以parquet格式儲存（有壓縮，省空間）\n",
    "corrected_fiber_data.to_parquet(CORRECTED_DATA_PATH, compression='snappy')\n",
    "print(f'修正後資料已儲存為 {CORRECTED_DATA_PATH}')"
   ]
  },
  {
   "cell_type": "markdown",
   "id": "a825a14b",
   "metadata": {},
   "source": [
    "## 後續分析建議\n",
    "- 在 `run_analysis.ipynb` 只要載入 `fiber_corrected.parquet` 即可進行後續分析：\n",
    "\n",
    "```python\n",
    "import pandas as pd\n",
    "df = pd.read_parquet('../data/fiber_corrected.parquet')\n",
    "```\n",
    "\n",
    "- 若修正參數有更動，重新執行此notebook即可產生新版資料。\n",
    "- 若資料量極大，也可以考慮分批處理多個檔案。"
   ]
  }
 ],
 "metadata": {
  "kernelspec": {
   "display_name": "Python [conda env:obspy]",
   "language": "python",
   "name": "conda-env-obspy-py"
  },
  "language_info": {
   "codemirror_mode": {
    "name": "ipython",
    "version": 3
   },
   "file_extension": ".py",
   "mimetype": "text/x-python",
   "name": "python",
   "nbconvert_exporter": "python",
   "pygments_lexer": "ipython3",
   "version": "3.10.14"
  }
 },
 "nbformat": 4,
 "nbformat_minor": 5
}
